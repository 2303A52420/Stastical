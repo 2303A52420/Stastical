{
  "nbformat": 4,
  "nbformat_minor": 0,
  "metadata": {
    "colab": {
      "provenance": [],
      "authorship_tag": "ABX9TyO/3Ih+94P7K3pMJkFMJzQD",
      "include_colab_link": true
    },
    "kernelspec": {
      "name": "python3",
      "display_name": "Python 3"
    },
    "language_info": {
      "name": "python"
    }
  },
  "cells": [
    {
      "cell_type": "markdown",
      "metadata": {
        "id": "view-in-github",
        "colab_type": "text"
      },
      "source": [
        "<a href=\"https://colab.research.google.com/github/2303A52420/Stastical/blob/main/STML_2.ipynb\" target=\"_parent\"><img src=\"https://colab.research.google.com/assets/colab-badge.svg\" alt=\"Open In Colab\"/></a>"
      ]
    },
    {
      "cell_type": "code",
      "execution_count": 1,
      "metadata": {
        "colab": {
          "base_uri": "https://localhost:8080/"
        },
        "id": "WDAj8Qm_q9Q7",
        "outputId": "a64b4310-de8e-4d90-cc02-b33f1d8cc244"
      },
      "outputs": [
        {
          "output_type": "stream",
          "name": "stdout",
          "text": [
            "Mounted at /content/drive\n"
          ]
        }
      ],
      "source": [
        "from google.colab import drive\n",
        "drive.mount('/content/drive')"
      ]
    },
    {
      "cell_type": "code",
      "source": [
        "import numpy as np\n",
        "import pandas as pd\n",
        "import scipy as sc\n",
        "import statistics as stat\n",
        "from scipy.stats import skew\n",
        "from scipy.stats import kurtosis\n",
        "from scipy.stats import iqr\n",
        "import matplotlib.pyplot as plt\n",
        "a = pd.read_csv('/content/heart_attack_dataset.csv')\n",
        "print(a)\n",
        "print(a.columns)"
      ],
      "metadata": {
        "colab": {
          "base_uri": "https://localhost:8080/"
        },
        "id": "vyApcmlhrjbV",
        "outputId": "c2dbdc35-7b36-4f6d-bde2-5fbfa2e321d9"
      },
      "execution_count": 2,
      "outputs": [
        {
          "output_type": "stream",
          "name": "stdout",
          "text": [
            "     Gender  Age  Blood Pressure (mmHg)  Cholesterol (mg/dL) Has Diabetes  \\\n",
            "0      Male   70                    181                  262           No   \n",
            "1    Female   55                    103                  253          Yes   \n",
            "2      Male   42                     95                  295          Yes   \n",
            "3      Male   84                    106                  270           No   \n",
            "4      Male   86                    187                  296          Yes   \n",
            "..      ...  ...                    ...                  ...          ...   \n",
            "995    Male   42                    125                  193          Yes   \n",
            "996    Male   80                    186                  267          Yes   \n",
            "997  Female   64                    108                  174          Yes   \n",
            "998  Female   84                    123                  195           No   \n",
            "999    Male   61                    155                  197           No   \n",
            "\n",
            "    Smoking Status   Chest Pain Type                            Treatment  \n",
            "0            Never    Typical Angina                    Lifestyle Changes  \n",
            "1            Never   Atypical Angina                          Angioplasty  \n",
            "2          Current    Typical Angina                          Angioplasty  \n",
            "3            Never   Atypical Angina  Coronary Artery Bypass Graft (CABG)  \n",
            "4          Current  Non-anginal Pain                           Medication  \n",
            "..             ...               ...                                  ...  \n",
            "995        Current    Typical Angina                          Angioplasty  \n",
            "996          Never   Atypical Angina  Coronary Artery Bypass Graft (CABG)  \n",
            "997        Current  Non-anginal Pain  Coronary Artery Bypass Graft (CABG)  \n",
            "998        Current      Asymptomatic                    Lifestyle Changes  \n",
            "999         Former   Atypical Angina                    Lifestyle Changes  \n",
            "\n",
            "[1000 rows x 8 columns]\n",
            "Index(['Gender', 'Age', 'Blood Pressure (mmHg)', 'Cholesterol (mg/dL)',\n",
            "       'Has Diabetes', 'Smoking Status', 'Chest Pain Type', 'Treatment'],\n",
            "      dtype='object')\n"
          ]
        }
      ]
    },
    {
      "cell_type": "code",
      "source": [
        "print(\"Median Value of Blood Pressure \")\n",
        "print(np.median (a['Blood Pressure (mmHg)']))\n",
        "print(\"Median Value of Cholesterol\")\n",
        "print(np.median (a['Cholesterol (mg/dL)']))\n",
        "print(\"Median value of Age\")\n",
        "print(np.median(a['Age']))\n",
        "print(\"Mean Value of Blood Pressure \")\n",
        "print(np.mean (a ['Blood Pressure (mmHg)']))\n",
        "print(\"Mean Value of Cholesterol\")\n",
        "print(np.mean (a['Cholesterol (mg/dL)']))\n",
        "print(\"Mean value of Age\")\n",
        "print(np.mean(a['Age']))\n",
        "mode_df = a.mode()\n",
        "age_mode = mode_df ['Age'] [0]\n",
        "chol_mode = mode_df ['Cholesterol (mg/dL)'] [0]\n",
        "bp_mode = mode_df ['Blood Pressure (mmHg)'] [0]\n",
        "print(f\"Mode of Age: {age_mode}\")\n",
        "print(f\"Mode of Cholesterol (mg/DL): {chol_mode}\")\n",
        "print(f\"Mode of Blood Pressure (mmHg): {bp_mode}\")"
      ],
      "metadata": {
        "colab": {
          "base_uri": "https://localhost:8080/"
        },
        "id": "BBhDhZU6rzRh",
        "outputId": "f3e11bc1-be18-4fbf-fb81-1215d086e3d8"
      },
      "execution_count": 3,
      "outputs": [
        {
          "output_type": "stream",
          "name": "stdout",
          "text": [
            "Median Value of Blood Pressure \n",
            "146.0\n",
            "Median Value of Cholesterol\n",
            "225.5\n",
            "Median value of Age\n",
            "60.5\n",
            "Mean Value of Blood Pressure \n",
            "145.44\n",
            "Mean Value of Cholesterol\n",
            "223.789\n",
            "Mean value of Age\n",
            "60.338\n",
            "Mode of Age: 71.0\n",
            "Mode of Cholesterol (mg/DL): 185.0\n",
            "Mode of Blood Pressure (mmHg): 106\n"
          ]
        }
      ]
    },
    {
      "cell_type": "code",
      "source": [
        "print(\"Variance of Blood Pressure \")\n",
        "print(np.var(a['Blood Pressure (mmHg)']))\n",
        "print(\"Variance of Cholesterol\")\n",
        "print(np.var(a['Cholesterol (mg/dL)']))\n",
        "print(\"Variance of Age\")\n",
        "print(np.var(a['Age']))\n",
        "print(\"Standard Deviation of Blood Pressure \")\n",
        "print(np.std(a['Blood Pressure (mmHg)']))\n",
        "print(\"Standard Deviation of Cholesterol\")\n",
        "print(np.std(a['Cholesterol (mg/dL)']))\n",
        "print(\"Standard Deviation of Age\")\n",
        "print(np.std(a['Age']))\n",
        "print(\"Range of Age:\")\n",
        "print(np.max(a['Age'])-np.min(a['Age']))\n",
        "print(\"Range of Blood Pressure:\")\n",
        "print(np.max(a['Blood Pressure (mmHg)'])-np.min(a['Blood Pressure (mmHg)']))\n",
        "print(\"Range of Cholesterol:\")\n",
        "print(np.max(a['Cholesterol (mg/dL)'])-np.min(a['Cholesterol (mg/dL)']))"
      ],
      "metadata": {
        "colab": {
          "base_uri": "https://localhost:8080/"
        },
        "id": "eqP1nuqar7By",
        "outputId": "389a57a0-3c27-4af9-aeea-4a92da4fc580"
      },
      "execution_count": 4,
      "outputs": [
        {
          "output_type": "stream",
          "name": "stdout",
          "text": [
            "Variance of Blood Pressure \n",
            "1007.4684\n",
            "Variance of Cholesterol\n",
            "1828.9664789999997\n",
            "Variance of Age\n",
            "299.595756\n",
            "Standard Deviation of Blood Pressure \n",
            "31.7406427156099\n",
            "Standard Deviation of Cholesterol\n",
            "42.76641765451018\n",
            "Standard Deviation of Age\n",
            "17.308834622816175\n",
            "Range of Age:\n",
            "59\n",
            "Range of Blood Pressure:\n",
            "109\n",
            "Range of Cholesterol:\n",
            "149\n"
          ]
        }
      ]
    },
    {
      "cell_type": "code",
      "source": [
        "print(\"IQR value of Age\")\n",
        "iqr_age = iqr(a['Age'])\n",
        "print(iqr_age)\n",
        "print(\"\")\n",
        "print(\"IQR value of Blood Pressure\")\n",
        "iqr_bp = iqr(a['Blood Pressure (mmHg)'])\n",
        "print(iqr_bp)\n",
        "print(\"\")\n",
        "print(\"IQR value of Cholesterol\")\n",
        "iqr_chol = iqr(a['Cholesterol (mg/dL)'])\n",
        "print(iqr_chol)\n",
        "print(\"\")\n",
        "print(\"Skewness value of Age\")\n",
        "skewness_Age = skew(a['Age'], axis=0,bias=True)\n",
        "print(skewness_Age)\n",
        "print(\"\")\n",
        "print(\"Skewness value of Blood Pressure\")\n",
        "skewness_Blood_Pressure = skew(a['Blood Pressure (mmHg)'], axis=0,bias=True)\n",
        "print(skewness_Blood_Pressure)\n",
        "print(\"\")\n",
        "print(\"Skewness value of Cholesterol\")\n",
        "skewness_Cholesterol = skew(a['Cholesterol (mg/dL)'], axis=0,bias=True)\n",
        "print(skewness_Cholesterol)\n",
        "print(\"\")\n",
        "print(\"Kurtosis value of Age\")\n",
        "Age = kurtosis(a['Age'], axis=0, bias=True)\n",
        "print(Age)\n",
        "print(\"\")\n",
        "print(\"Kurtosis value of Blood Pressure\")\n",
        "Blood_Pressure = kurtosis (a ['Blood Pressure (mmHg)'], axis=0,bias=True)\n",
        "print(Blood_Pressure)\n",
        "print(\"\")\n",
        "print(\"Kurtosis value of Cholesterol\")\n",
        "Cholesterol = kurtosis(a['Cholesterol (mg/dL)'],axis=0,bias=True)\n",
        "print(Cholesterol)"
      ],
      "metadata": {
        "colab": {
          "base_uri": "https://localhost:8080/"
        },
        "id": "fcUP3xnJsELA",
        "outputId": "23fdf532-000b-4699-ce56-7b6617ddeeb0"
      },
      "execution_count": 5,
      "outputs": [
        {
          "output_type": "stream",
          "name": "stdout",
          "text": [
            "IQR value of Age\n",
            "31.0\n",
            "\n",
            "IQR value of Blood Pressure\n",
            "55.0\n",
            "\n",
            "IQR value of Cholesterol\n",
            "74.0\n",
            "\n",
            "Skewness value of Age\n",
            "-0.03564231872093601\n",
            "\n",
            "Skewness value of Blood Pressure\n",
            "-0.0090683670679518\n",
            "\n",
            "Skewness value of Cholesterol\n",
            "3.863225956890476e-06\n",
            "\n",
            "Kurtosis value of Age\n",
            "-1.2485927713831055\n",
            "\n",
            "Kurtosis value of Blood Pressure\n",
            "-1.1799263073241757\n",
            "\n",
            "Kurtosis value of Cholesterol\n",
            "-1.2045956767575303\n"
          ]
        }
      ]
    }
  ]
}